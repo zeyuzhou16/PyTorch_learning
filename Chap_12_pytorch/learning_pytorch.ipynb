{
 "cells": [
  {
   "cell_type": "code",
   "execution_count": 9,
   "metadata": {},
   "outputs": [
    {
     "name": "stdout",
     "output_type": "stream",
     "text": [
      "int32\n",
      "torch.int64\n",
      "torch.int32\n",
      "torch.int32\n"
     ]
    }
   ],
   "source": [
    "import torch\n",
    "import numpy as np\n",
    "a = [1, 2, 3]\n",
    "b = np.arange(3) + 4\n",
    "b = b.astype(np.int32)\n",
    "print(b.dtype)\n",
    "t_a = torch.tensor(a)\n",
    "t_b = torch.from_numpy(b)\n",
    "print(t_a.dtype)\n",
    "print(t_b.dtype)\n",
    "t_a_new = t_a.to(torch.int32)\n",
    "print(t_a_new.dtype)"
   ]
  },
  {
   "cell_type": "code",
   "execution_count": 21,
   "metadata": {},
   "outputs": [
    {
     "name": "stdout",
     "output_type": "stream",
     "text": [
      "torch.Size([2, 3])\n",
      "tensor([[[8.9250e-01, 7.2552e-01],\n",
      "         [3.5556e-01, 8.8382e-04]],\n",
      "\n",
      "        [[2.1454e-01, 6.7671e-01],\n",
      "         [8.8789e-01, 3.0504e-01]]])\n",
      "tensor([[[8.9250e-01, 3.5556e-01],\n",
      "         [7.2552e-01, 8.8382e-04]],\n",
      "\n",
      "        [[2.1454e-01, 8.8789e-01],\n",
      "         [6.7671e-01, 3.0504e-01]]])\n",
      "tensor([8.9250e-01, 3.5556e-01, 7.2552e-01, 8.8382e-04, 2.1454e-01, 8.8789e-01,\n",
      "        6.7671e-01, 3.0504e-01])\n",
      "torch.Size([2, 3, 2])\n",
      "torch.Size([2, 3, 2, 1])\n"
     ]
    }
   ],
   "source": [
    "t_ones = torch.ones(2, 3)\n",
    "print(t_ones.shape)\n",
    "rand_tensor = torch.rand(2, 2, 2)\n",
    "print(rand_tensor)\n",
    "rand_tensor_tr = torch.transpose(rand_tensor, 1, 2)\n",
    "print(rand_tensor_tr)\n",
    "print(rand_tensor_tr.reshape(8))\n",
    "a = torch.zeros(1, 2, 3, 2, 1)\n",
    "b = torch.squeeze(a)\n",
    "print(b.shape)\n",
    "c = torch.squeeze(a, 0)\n",
    "print(c.shape)\n"
   ]
  },
  {
   "cell_type": "code",
   "execution_count": 32,
   "metadata": {},
   "outputs": [
    {
     "name": "stdout",
     "output_type": "stream",
     "text": [
      "tensor([[ 1.0000, -0.4414],\n",
      "        [-0.1939,  0.4694],\n",
      "        [-0.9414,  0.5997],\n",
      "        [-0.2057,  0.5087],\n",
      "        [ 0.1390, -0.1224],\n",
      "        [ 1.0000, -0.4414],\n",
      "        [-0.1939,  0.4694],\n",
      "        [-0.9414,  0.5997],\n",
      "        [-0.2057,  0.5087],\n",
      "        [ 0.1390, -0.1224]])\n",
      "tensor([[ 0.5153, -0.4414],\n",
      "        [-0.1939,  0.4694],\n",
      "        [-0.9414,  0.5997],\n",
      "        [-0.2057,  0.5087],\n",
      "        [ 0.1390, -0.1224]])\n",
      "tensor([[ 0.8590,  0.7056],\n",
      "        [-0.3406, -1.2720],\n",
      "        [-1.1948,  0.0250],\n",
      "        [-0.7627,  1.3969],\n",
      "        [-0.3245,  0.2879]])\n"
     ]
    }
   ],
   "source": [
    "torch.manual_seed(1)\n",
    "t1 = torch.rand(5, 2) * 2 - 1\n",
    "t2 = torch.normal(mean = 0, std = 1, size = (5, 2))\n",
    "t3 = torch.concatenate((t1, t1))\n",
    "t4 = t3.clone().detach()\n",
    "t3[t4 == t4[0, 0]] = 1\n",
    "print(t3)\n",
    "print(t1)\n",
    "print(t2)"
   ]
  },
  {
   "cell_type": "markdown",
   "metadata": {},
   "source": [
    "Split Stack Concatenate tensors"
   ]
  },
  {
   "cell_type": "code",
   "execution_count": 62,
   "metadata": {},
   "outputs": [
    {
     "name": "stdout",
     "output_type": "stream",
     "text": [
      "(tensor([0.8823, 0.9150, 0.3829, 0.9593]), tensor([0.3904, 0.6009]))\n",
      "tensor([0.8823, 0.9150, 0.3829, 0.9593, 0.3904, 0.6009])\n",
      "tensor([[0.8823, 0.3829, 0.3904],\n",
      "        [0.9150, 0.9593, 0.6009]])\n"
     ]
    }
   ],
   "source": [
    "torch.manual_seed(42)\n",
    "t = torch.rand(6)\n",
    "t_splits = t.chunk(3, dim=-1)\n",
    "t_splits2 = t.chunk(3, dim = 0)\n",
    "t_split42 = t.split(split_size=[4, 2])\n",
    "\n",
    "print(t_split42)\n",
    "q = torch.cat((t_split42[0], t_split42[1]), axis = 0)\n",
    "print(q)\n",
    "t_stack = torch.stack((t_splits[0], t_splits[1], t_splits[2]), axis = 0)\n",
    "print(t_stack.T)"
   ]
  },
  {
   "cell_type": "code",
   "execution_count": 68,
   "metadata": {},
   "outputs": [
    {
     "name": "stdout",
     "output_type": "stream",
     "text": [
      "tensor([0.])\n",
      "tensor([1.])\n",
      "tensor([2.])\n",
      "tensor([3.])\n",
      "tensor([4.])\n",
      "tensor([5.])\n"
     ]
    }
   ],
   "source": [
    "from torch.utils.data import DataLoader\n",
    "t = torch.arange(6, dtype = torch.float32)\n",
    "data_loader = DataLoader(t)\n",
    "for it in data_loader:\n",
    "    print(it)"
   ]
  },
  {
   "cell_type": "code",
   "execution_count": 74,
   "metadata": {},
   "outputs": [
    {
     "name": "stdout",
     "output_type": "stream",
     "text": [
      "batch 1 tensor([0., 1., 2.])\n",
      "batch 2 tensor([3., 4., 5.])\n"
     ]
    }
   ],
   "source": [
    "data_loader = DataLoader(t, batch_size=3, drop_last = False)\n",
    "for i, batch in enumerate(data_loader, 1):\n",
    "    print(f'batch {i}', batch)\n"
   ]
  },
  {
   "cell_type": "code",
   "execution_count": 80,
   "metadata": {},
   "outputs": [
    {
     "name": "stdout",
     "output_type": "stream",
     "text": [
      "tensor([0.2418, 0.1591, 0.7653])\n"
     ]
    }
   ],
   "source": [
    "t_x = torch.rand([4, 3], dtype = torch.float32)\n",
    "t_y = torch.arange(4)\n",
    "from torch.utils.data import Dataset, TensorDataset\n",
    "class JointDataset(Dataset):\n",
    "    def __init__(self, x, y):\n",
    "        self.x = x\n",
    "        self.y = y\n",
    "    def __len__(self):\n",
    "        return len(x)\n",
    "    def __getitem__(self, idx):\n",
    "        return self.x[idx], self.y[idx]\n",
    "joint_dataset = TensorDataset(t_x, t_y)\n",
    "print(joint_dataset[0][0])"
   ]
  },
  {
   "cell_type": "code",
   "execution_count": 86,
   "metadata": {},
   "outputs": [
    {
     "name": "stdout",
     "output_type": "stream",
     "text": [
      "batch 1: x:  tensor([[0.2418, 0.1591, 0.7653],\n",
      "        [0.2979, 0.8035, 0.3813]]) \n",
      "\t y:  tensor([0, 1])\n",
      "batch 2: x:  tensor([[0.7860, 0.1115, 0.2477],\n",
      "        [0.6524, 0.6057, 0.3725]]) \n",
      "\t y:  tensor([2, 3])\n"
     ]
    }
   ],
   "source": [
    "data_loader = DataLoader(dataset = joint_dataset, batch_size = 2, shuffle = False)\n",
    "for i, batch in enumerate(data_loader, 1):\n",
    "    print(f'batch {i}:', 'x: ', batch[0], '\\n\\t y: ', batch[1])"
   ]
  },
  {
   "cell_type": "code",
   "execution_count": 93,
   "metadata": {},
   "outputs": [
    {
     "name": "stdout",
     "output_type": "stream",
     "text": [
      "batch 4: x:  tensor([[0.6524, 0.6057, 0.3725],\n",
      "        [0.7860, 0.1115, 0.2477]]) \n",
      "\t y:  tensor([3, 2])\n",
      "batch 5: x:  tensor([[0.2418, 0.1591, 0.7653],\n",
      "        [0.2979, 0.8035, 0.3813]]) \n",
      "\t y:  tensor([0, 1])\n"
     ]
    }
   ],
   "source": [
    "data_loader = DataLoader(dataset = joint_dataset, batch_size = 2, shuffle = True)\n",
    "for i, batch in enumerate(data_loader, 4):\n",
    "    print(f'batch {i}:', 'x: ', batch[0], '\\n\\t y: ', batch[1])"
   ]
  },
  {
   "cell_type": "code",
   "execution_count": 95,
   "metadata": {},
   "outputs": [
    {
     "name": "stdout",
     "output_type": "stream",
     "text": [
      "epoch 1\n",
      "batch 1: x:  tensor([[0.7860, 0.1115, 0.2477],\n",
      "        [0.2418, 0.1591, 0.7653]]) \n",
      "\t y:  tensor([2, 0])\n",
      "batch 2: x:  tensor([[0.6524, 0.6057, 0.3725],\n",
      "        [0.2979, 0.8035, 0.3813]]) \n",
      "\t y:  tensor([3, 1])\n",
      "epoch 2\n",
      "batch 1: x:  tensor([[0.2979, 0.8035, 0.3813],\n",
      "        [0.6524, 0.6057, 0.3725]]) \n",
      "\t y:  tensor([1, 3])\n",
      "batch 2: x:  tensor([[0.7860, 0.1115, 0.2477],\n",
      "        [0.2418, 0.1591, 0.7653]]) \n",
      "\t y:  tensor([2, 0])\n",
      "epoch 3\n",
      "batch 1: x:  tensor([[0.7860, 0.1115, 0.2477],\n",
      "        [0.2979, 0.8035, 0.3813]]) \n",
      "\t y:  tensor([2, 1])\n",
      "batch 2: x:  tensor([[0.2418, 0.1591, 0.7653],\n",
      "        [0.6524, 0.6057, 0.3725]]) \n",
      "\t y:  tensor([0, 3])\n"
     ]
    }
   ],
   "source": [
    "for epoch in range(3):\n",
    "    print(f'epoch {epoch+1}')\n",
    "    for i, batch in enumerate(data_loader, 1):\n",
    "        print(f'batch {i}:', 'x: ', batch[0], '\\n\\t y: ', batch[1])"
   ]
  },
  {
   "cell_type": "code",
   "execution_count": null,
   "metadata": {},
   "outputs": [],
   "source": []
  }
 ],
 "metadata": {
  "kernelspec": {
   "display_name": "base",
   "language": "python",
   "name": "python3"
  },
  "language_info": {
   "codemirror_mode": {
    "name": "ipython",
    "version": 3
   },
   "file_extension": ".py",
   "mimetype": "text/x-python",
   "name": "python",
   "nbconvert_exporter": "python",
   "pygments_lexer": "ipython3",
   "version": "3.9.13"
  }
 },
 "nbformat": 4,
 "nbformat_minor": 2
}
