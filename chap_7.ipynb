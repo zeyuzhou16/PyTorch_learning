{
 "cells": [
  {
   "cell_type": "markdown",
   "id": "9db04114",
   "metadata": {},
   "source": [
    "Chapter 7\n",
    "\n",
    "Combining Different Models for Ensemble learning\n",
    "\n",
    "A. "
   ]
  },
  {
   "cell_type": "code",
   "execution_count": 3,
   "id": "6ad23165",
   "metadata": {},
   "outputs": [
    {
     "name": "stdout",
     "output_type": "stream",
     "text": [
      "[OK] numpy 2.1.3\n",
      "[OK] scipy 1.14.1\n",
      "[OK] matplotlib 3.9.2\n",
      "[OK] sklearn 1.5.2\n",
      "[OK] pandas 2.2.3\n",
      "[OK] xgboost 3.0.5\n"
     ]
    }
   ],
   "source": [
    "from python_environment_check import check_packages\n",
    "\n",
    "\n",
    "d = {\n",
    "    'numpy': '1.21.2',\n",
    "    'scipy': '1.7.0',\n",
    "    'matplotlib': '3.4.3',\n",
    "    'sklearn': '1.0',\n",
    "    'pandas': '1.3.2',\n",
    "    'xgboost': '1.5.0',\n",
    "}\n",
    "check_packages(d)"
   ]
  },
  {
   "cell_type": "code",
   "execution_count": null,
   "id": "5992eae7",
   "metadata": {},
   "outputs": [],
   "source": []
  }
 ],
 "metadata": {
  "kernelspec": {
   "display_name": "ml",
   "language": "python",
   "name": "python3"
  },
  "language_info": {
   "codemirror_mode": {
    "name": "ipython",
    "version": 3
   },
   "file_extension": ".py",
   "mimetype": "text/x-python",
   "name": "python",
   "nbconvert_exporter": "python",
   "pygments_lexer": "ipython3",
   "version": "3.10.13"
  }
 },
 "nbformat": 4,
 "nbformat_minor": 5
}
