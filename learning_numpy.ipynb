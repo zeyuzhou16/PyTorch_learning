{
 "cells": [
  {
   "cell_type": "code",
   "execution_count": 19,
   "metadata": {},
   "outputs": [
    {
     "name": "stdout",
     "output_type": "stream",
     "text": [
      "24.324455601694797\n",
      "26.4\n"
     ]
    }
   ],
   "source": [
    "import numpy as np\n",
    "weight = np.random.randn(5) ** 2\n",
    "weight /= weight.sum()\n",
    "data = np.random.randint(20, 30, size=5)\n",
    "wave = np.average(data, weights=weight)\n",
    "print(wave)\n",
    "print(data.mean())"
   ]
  },
  {
   "cell_type": "code",
   "execution_count": 35,
   "metadata": {},
   "outputs": [
    {
     "name": "stdout",
     "output_type": "stream",
     "text": [
      "[3 1 4 3 1 4]\n"
     ]
    }
   ],
   "source": [
    "a = np.arange(3)\n",
    "b = np.concatenate((a, a))\n",
    "b[np.isclose(b, np.zeros_like(b))] = 4\n",
    "c = np.where(b == 4, 3, b**2)\n",
    "print(c)"
   ]
  },
  {
   "cell_type": "markdown",
   "metadata": {},
   "source": [
    "Create Dataframe from a dictionary and specify indexes"
   ]
  },
  {
   "cell_type": "code",
   "execution_count": 40,
   "metadata": {},
   "outputs": [
    {
     "name": "stdout",
     "output_type": "stream",
     "text": [
      "      col1  col2  col3\n",
      "row1     1     2     3\n",
      "row2     2     5     8\n"
     ]
    }
   ],
   "source": [
    "import pandas as pd\n",
    "a = {'col1': [1, 2], 'col2': [2, 5], 'col3': [3, 8]}\n",
    "df = pd.DataFrame(a, index = ['row1', 'row2'])\n",
    "print(df)"
   ]
  },
  {
   "cell_type": "markdown",
   "metadata": {},
   "source": []
  },
  {
   "cell_type": "markdown",
   "metadata": {},
   "source": [
    "Create data frame from a list of lists"
   ]
  },
  {
   "cell_type": "code",
   "execution_count": 62,
   "metadata": {},
   "outputs": [
    {
     "name": "stdout",
     "output_type": "stream",
     "text": [
      "col1    2.0\n",
      "col2    NaN\n",
      "col3    NaN\n",
      "Name: row3, dtype: float64\n"
     ]
    },
    {
     "data": {
      "text/plain": [
       "(3, 3)"
      ]
     },
     "execution_count": 62,
     "metadata": {},
     "output_type": "execute_result"
    }
   ],
   "source": [
    "import pandas as pd\n",
    "b = [[2, 3, 4], [5, 6, 7], [2, np.nan, None]]\n",
    "df2 = pd.DataFrame(b, index=['row1', 'row2', 'row3'], columns = ['col1', 'col2', 'col3'])\n",
    "print(df2.loc['row3'])\n",
    "df2.fillna()"
   ]
  },
  {
   "cell_type": "markdown",
   "metadata": {},
   "source": [
    "Sort a list of tuple with the nth element in the tuple"
   ]
  },
  {
   "cell_type": "code",
   "execution_count": 97,
   "metadata": {},
   "outputs": [
    {
     "name": "stdout",
     "output_type": "stream",
     "text": [
      "2\n",
      "[(1, 2, 3, 4), (0, -1, 4), (2, 3, 4.5, 5, 6)]\n"
     ]
    }
   ],
   "source": [
    "data = [(1,2,3,4),(2,3,4.5,5,6),(0,-1,4)]\n",
    "n = np.random.randint(0, len(min(data, key = len)))\n",
    "print(n)\n",
    "#\n",
    "# sorted(data, key = lambda x: x.__getitem__(n))\n",
    "data.sort(key=lambda x: x[n])\n",
    "print(data)\n"
   ]
  },
  {
   "cell_type": "code",
   "execution_count": null,
   "metadata": {},
   "outputs": [],
   "source": []
  },
  {
   "cell_type": "code",
   "execution_count": null,
   "metadata": {},
   "outputs": [],
   "source": []
  },
  {
   "cell_type": "code",
   "execution_count": null,
   "metadata": {},
   "outputs": [],
   "source": []
  },
  {
   "cell_type": "code",
   "execution_count": null,
   "metadata": {},
   "outputs": [],
   "source": []
  }
 ],
 "metadata": {
  "kernelspec": {
   "display_name": "base",
   "language": "python",
   "name": "python3"
  },
  "language_info": {
   "codemirror_mode": {
    "name": "ipython",
    "version": 3
   },
   "file_extension": ".py",
   "mimetype": "text/x-python",
   "name": "python",
   "nbconvert_exporter": "python",
   "pygments_lexer": "ipython3",
   "version": "3.9.13"
  }
 },
 "nbformat": 4,
 "nbformat_minor": 2
}
