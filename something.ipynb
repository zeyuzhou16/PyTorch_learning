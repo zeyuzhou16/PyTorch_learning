{
 "cells": [
  {
   "cell_type": "code",
   "execution_count": 22,
   "metadata": {},
   "outputs": [
    {
     "name": "stdout",
     "output_type": "stream",
     "text": [
      "[[59.24242424 69.6969697  34.84848485 66.21212121]\n",
      " [56.66666667 66.66666667 33.33333333 63.33333333]\n",
      " [54.09090909 63.63636364 31.81818182 60.45454545]]\n",
      "21.597116192014557\n",
      "Power_divergenceResult(statistic=array([39.05736208, 24.04968944, 61.62111801,  4.85452762]), pvalue=array([3.30218642e-09, 5.99344180e-06, 4.16048767e-14, 8.82780478e-02]))\n"
     ]
    }
   ],
   "source": [
    "import numpy as np \n",
    "import scipy\n",
    "a = np.array([[30, 100, 20, 80], [50, 40, 70, 60], [90, 60, 10, 50]])\n",
    "c = np.array([230, 220, 210])\n",
    "d = np.array([170, 200, 100, 190])\n",
    "e = np.outer(c, d) / 660\n",
    "print(e)\n",
    "print(sum(sum((a - e)**2 / e)) / 6)\n",
    "b = scipy.stats.chisquare(a, e)\n",
    "print(b)\n"
   ]
  },
  {
   "cell_type": "code",
   "execution_count": 5,
   "metadata": {},
   "outputs": [
    {
     "name": "stdout",
     "output_type": "stream",
     "text": [
      "Power_divergenceResult(statistic=array([32.94117647, 28.        , 62.        ,  7.36842105]), pvalue=array([7.02933783e-08, 8.31528719e-07, 3.44247711e-14, 2.51169961e-02]))\n"
     ]
    }
   ],
   "source": [
    "print(b)"
   ]
  },
  {
   "cell_type": "code",
   "execution_count": 12,
   "metadata": {},
   "outputs": [
    {
     "name": "stdout",
     "output_type": "stream",
     "text": [
      "0.7249463955994733\n",
      "0.027954825864634207\n"
     ]
    }
   ],
   "source": [
    "c = np.array([[20, 25], [30, 35], [40, 45]])\n",
    "d = np.array([[45, 40], [50, 45]])\n",
    "print(sum((c[:, 1] - c[:, 0])**2 * 10 / (c[:, 1]**2 +3)))\n",
    "print(sum((d[:, 1] - d[:, 0])**2 / (d[:, 1]**2 + 1)))"
   ]
  },
  {
   "cell_type": "code",
   "execution_count": 11,
   "metadata": {},
   "outputs": [
    {
     "data": {
      "text/plain": [
       "0.7529012214641075"
      ]
     },
     "execution_count": 11,
     "metadata": {},
     "output_type": "execute_result"
    }
   ],
   "source": [
    "25 * (10 / 628 + 10 / (1228) + 10 / 2028 + 1 / 1601 + 1/2026)"
   ]
  },
  {
   "cell_type": "code",
   "execution_count": null,
   "metadata": {},
   "outputs": [],
   "source": []
  }
 ],
 "metadata": {
  "kernelspec": {
   "display_name": "base",
   "language": "python",
   "name": "python3"
  },
  "language_info": {
   "codemirror_mode": {
    "name": "ipython",
    "version": 3
   },
   "file_extension": ".py",
   "mimetype": "text/x-python",
   "name": "python",
   "nbconvert_exporter": "python",
   "pygments_lexer": "ipython3",
   "version": "3.9.20"
  }
 },
 "nbformat": 4,
 "nbformat_minor": 2
}
